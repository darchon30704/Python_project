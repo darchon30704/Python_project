{
 "cells": [
  {
   "cell_type": "markdown",
   "metadata": {},
   "source": [
    "#Project - 30 July 2018\n",
    "\n",
    "## <font color='blue'>Logistics:</font>\n",
    "+ **Signup sheet for lightning talk**: shared\n",
    "    - potential topics: any python library or concept of interest (not covered in class)\n",
    "    - key deliverable: in-class presentation + demo\n",
    "    - Some resources:\n",
    "        - https://docs.python.org/3.6/library/index.html\n",
    "        - https://pymotw.com/3/\n",
    "+ **Final project proposal**:\n",
    "    - Due date: 26 July 2018\n",
    "    - Deliverable:\n",
    "        - Team members\n",
    "        - Problem description\n",
    "            - Core idea: Implementing XYZ algorithm; Analyzing XYZ dataset etc.\n",
    "            - Pseudocode\n",
    "            - Expected input\n",
    "            - Expected output\n",
    "    - Final deliverable:\n",
    "        - presentation + demo\n",
    "        - github repo with code and documentation of how to run the program\n",
    "    - Examples:\n",
    "        - Implement, compare and contrast some sorting / searching algorithms\n",
    "        - Creating a simple game, like tic-tac-toe, sudoku\n",
    "        - Perform a real-world data analysis task\n",
    "            \n",
    "\n",
    "## Story so far...\n",
    "+ primitive python objects / data-types and operations (numbers, strings)\n",
    "+ logical / boolean operators\n",
    "+ variables and variable naming conventions (pep8, reserved keywords)\n",
    "+ expressions and simple statements (assignment)\n",
    "+ misc (user input, comments, mutability, terminology; git: branching etc.; atom, jupyter notebooks)\n",
    "<br />\n",
    "\n",
    "## Today - Python Statements:\n",
    "- Compound statements: if/else conditionals\n",
    "- Some common patterns of usage"
   ]
  },
  {
   "cell_type": "markdown",
   "metadata": {},
   "source": [
    "## Alternate execution/Branching\n",
    "```python\n",
    "if <expression>:\n",
    "    <statement_1>\n",
    "else:\n",
    "    <statement_2>\n",
    "```\n",
    "![alt text](http://www.openbookproject.net/books/bpp4awd/_images/flowchart_if_else.png)\n",
    "\n",
    "```python\n",
    "val = int(input('Enter a number: '))    # Note the typecasting\n",
    "if val % 2 == 0:\n",
    "    print('You entered an even number')\n",
    "else:\n",
    "    print('You entered an odd number')\n",
    "```\n",
    "    "
   ]
  },
 ],
 "metadata": {
  "anaconda-cloud": {},
  "kernelspec": {
   "display_name": "Python 3",
   "language": "python",
   "name": "python3"
  },
  "language_info": {
   "codemirror_mode": {
    "name": "ipython",
    "version": 3
   },
   "file_extension": ".py",
   "mimetype": "text/x-python",
   "name": "python",
   "nbconvert_exporter": "python",
   "pygments_lexer": "ipython3",
   "version": "3.6.4"
  }
 },
 "nbformat": 4,
 "nbformat_minor": 2
}
